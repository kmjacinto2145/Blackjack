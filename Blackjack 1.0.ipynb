{
 "cells": [
  {
   "cell_type": "code",
   "execution_count": 103,
   "metadata": {},
   "outputs": [],
   "source": [
    "import numpy as np\n",
    "import itertools as it"
   ]
  },
  {
   "cell_type": "code",
   "execution_count": 124,
   "metadata": {},
   "outputs": [],
   "source": [
    "#Removes nesting from nested lists\n",
    "def remove_nestings(l, output): \n",
    "\n",
    "    for i in l: \n",
    "        if type(i) == list: \n",
    "            remove_nestings(i, output) \n",
    "        else: \n",
    "            output.append(i)        \n",
    "    return output"
   ]
  },
  {
   "cell_type": "code",
   "execution_count": 125,
   "metadata": {},
   "outputs": [],
   "source": [
    "#Initial setting up of the cards\n",
    "def setup_cards():\n",
    "    cards = [['A'] * 4, [2] * 4, [3] * 4,\n",
    "             [4] * 4, [5] * 4, [6] * 4,\n",
    "             [7] * 4, [8] * 4, [9] * 4,\n",
    "             [10] * 4, [\"J\"] * 4, [\"Q\"] * 4,\n",
    "             [\"K\"] * 4]\n",
    "\n",
    "    output = []\n",
    "\n",
    "    cards = remove_nestings(cards, output)\n",
    "    return cards"
   ]
  },
  {
   "cell_type": "code",
   "execution_count": 119,
   "metadata": {},
   "outputs": [],
   "source": [
    "#Calculates the total for each hand\n",
    "def calculate_total(hand):\n",
    "    total = 0\n",
    "    for card in hand:\n",
    "        if card == \"A\":\n",
    "            total += 11\n",
    "        elif card == \"J\" or card == \"Q\" or card == \"K\":\n",
    "            total += 10\n",
    "        else:\n",
    "            total += card\n",
    "    return total"
   ]
  },
  {
   "cell_type": "code",
   "execution_count": 120,
   "metadata": {},
   "outputs": [],
   "source": [
    "#counts the number of aces in the player's hand\n",
    "def count_aces(hand):\n",
    "    count = 0\n",
    "    for card in hand:\n",
    "        if card == \"A\":\n",
    "            count += 1\n",
    "            \n",
    "    return count"
   ]
  },
  {
   "cell_type": "code",
   "execution_count": 130,
   "metadata": {},
   "outputs": [],
   "source": [
    "#Calculates the player's best possible total\n",
    "def best_total(hand):\n",
    "    ace_count = count_aces(hand)\n",
    "    initial_total = calculate_total(hand)\n",
    "    while initial_total > 21 and ace_count >= 1:\n",
    "        initial_total -= 10\n",
    "    \n",
    "    return initial_total"
   ]
  },
  {
   "cell_type": "code",
   "execution_count": 122,
   "metadata": {},
   "outputs": [],
   "source": [
    "#Adds a card to the player's hand\n",
    "def add_card(hand):\n",
    "    global cards\n",
    "    index = np.random.randint(low = 0, high = len(cards) - 1)\n",
    "    card = cards.pop(index)\n",
    "    #print(card)\n",
    "    hand.append(card)\n",
    "    #print(hand)\n",
    "    return hand"
   ]
  },
  {
   "cell_type": "code",
   "execution_count": 134,
   "metadata": {},
   "outputs": [
    {
     "name": "stdout",
     "output_type": "stream",
     "text": [
      "Hand: [10, 9]\n",
      "Total: 19\n",
      "What would you like to do?\n",
      "Press H to hit or S to stand.s\n",
      "Hand: [10, 9]\n",
      "Total: 19\n",
      "What would you like to do?\n",
      "Press H to hit or S to stand.S\n",
      "You finished with 19\n"
     ]
    }
   ],
   "source": [
    "cards = setup_cards()\n",
    "\n",
    "#Start with 2 cards in hand\n",
    "hand = []\n",
    "hand = add_card(hand)\n",
    "#print(hand)\n",
    "hand = add_card(hand)\n",
    "\n",
    "#Loops until game is over\n",
    "game_over = False\n",
    "while not game_over:\n",
    "    total = best_total(hand)\n",
    "    print(\"Hand:\", hand)\n",
    "    print(\"Total:\", total)\n",
    "    \n",
    "    if total == 21:\n",
    "        game_over = True\n",
    "        print(\"Blackjack!\")\n",
    "    elif total > 21:\n",
    "        game_over = True\n",
    "        print(\"Busted!\")\n",
    "    else:\n",
    "        print(\"What would you like to do?\")\n",
    "        command = input(\"Press H to hit or S to stand.\")\n",
    "        if command == \"H\":\n",
    "            add_card(hand)\n",
    "        elif command == \"S\":\n",
    "            game_over = True\n",
    "            print(\"You finished with\", total)            "
   ]
  },
  {
   "cell_type": "code",
   "execution_count": null,
   "metadata": {},
   "outputs": [],
   "source": []
  }
 ],
 "metadata": {
  "kernelspec": {
   "display_name": "Python 3",
   "language": "python",
   "name": "python3"
  },
  "language_info": {
   "codemirror_mode": {
    "name": "ipython",
    "version": 3
   },
   "file_extension": ".py",
   "mimetype": "text/x-python",
   "name": "python",
   "nbconvert_exporter": "python",
   "pygments_lexer": "ipython3",
   "version": "3.7.3"
  }
 },
 "nbformat": 4,
 "nbformat_minor": 2
}
